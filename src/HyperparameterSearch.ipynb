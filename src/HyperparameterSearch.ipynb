{
 "cells": [
  {
   "cell_type": "markdown",
   "metadata": {},
   "source": [
    "# Hyperparameter Tuning"
   ]
  },
  {
   "cell_type": "markdown",
   "metadata": {},
   "source": [
    "## MLP"
   ]
  },
  {
   "cell_type": "code",
   "execution_count": 1,
   "metadata": {},
   "outputs": [],
   "source": [
    "import pandas as pd\n",
    "from sklearn.neural_network import MLPClassifier\n",
    "from sklearn.tree import DecisionTreeClassifier\n",
    "from sklearn.svm import SVC\n",
    "from sklearn.model_selection import GridSearchCV"
   ]
  },
  {
   "cell_type": "code",
   "execution_count": 2,
   "metadata": {},
   "outputs": [],
   "source": [
    "df=pd.read_pickle('C:/Users/oefel/Documents/Datasets/group50')\n",
    "df=df[df['# Dataset']==1]\n",
    "df['Sex']=df['Sex'].map({'M':0,'F':1})\n",
    "X=df[['Sex','Height','Ability Score 1','Ability Score2']]\n",
    "y=df['Label']"
   ]
  },
  {
   "cell_type": "code",
   "execution_count": 9,
   "metadata": {},
   "outputs": [
    {
     "name": "stderr",
     "output_type": "stream",
     "text": [
      "c:\\users\\oefel\\appdata\\local\\programs\\python\\python36\\lib\\site-packages\\sklearn\\model_selection\\_search.py:841: DeprecationWarning: The default of the `iid` parameter will change from True to False in version 0.22 and will be removed in 0.24. This will change numeric results when test-set sizes are unequal.\n",
      "  DeprecationWarning)\n"
     ]
    },
    {
     "data": {
      "text/plain": [
       "GridSearchCV(cv=10, error_score='raise-deprecating',\n",
       "       estimator=MLPClassifier(activation='relu', alpha=0.0001, batch_size='auto', beta_1=0.9,\n",
       "       beta_2=0.999, early_stopping=True, epsilon=1e-08,\n",
       "       hidden_layer_sizes=(100,), learning_rate='constant',\n",
       "       learning_rate_init=0.001, max_iter=1000, momentum=0.9,\n",
       "       n_iter_no_change=10, nesterovs_momentum=True, power_t=0.5,\n",
       "       random_state=None, shuffle=True, solver='adam', tol=0.0001,\n",
       "       validation_fraction=0.1, verbose=False, warm_start=False),\n",
       "       fit_params=None, iid='warn', n_jobs=None,\n",
       "       param_grid={'hidden_layer_sizes': [(5, 3)], 'activation': ['relu', 'logistic'], 'alpha': [0.0001, 0.01], 'n_iter_no_change': [100]},\n",
       "       pre_dispatch='2*n_jobs', refit=True, return_train_score='warn',\n",
       "       scoring=None, verbose=0)"
      ]
     },
     "execution_count": 9,
     "metadata": {},
     "output_type": "execute_result"
    }
   ],
   "source": [
    "parameterlist={\n",
    "    'hidden_layer_sizes':[(5,3)],\n",
    "    'activation':['relu','logistic'],\n",
    "    'alpha':[0.0001,0.01],\n",
    "    'n_iter_no_change':[100]\n",
    "}\n",
    "search=GridSearchCV(MLPClassifier(early_stopping=True,max_iter=1000),param_grid=parameterlist, cv=10)\n",
    "search.fit(X,y)"
   ]
  },
  {
   "cell_type": "code",
   "execution_count": 10,
   "metadata": {},
   "outputs": [
    {
     "data": {
      "text/plain": [
       "{'activation': 'logistic',\n",
       " 'alpha': 0.0001,\n",
       " 'batch_size': 'auto',\n",
       " 'beta_1': 0.9,\n",
       " 'beta_2': 0.999,\n",
       " 'early_stopping': True,\n",
       " 'epsilon': 1e-08,\n",
       " 'hidden_layer_sizes': (5, 3),\n",
       " 'learning_rate': 'constant',\n",
       " 'learning_rate_init': 0.001,\n",
       " 'max_iter': 1000,\n",
       " 'momentum': 0.9,\n",
       " 'n_iter_no_change': 100,\n",
       " 'nesterovs_momentum': True,\n",
       " 'power_t': 0.5,\n",
       " 'random_state': None,\n",
       " 'shuffle': True,\n",
       " 'solver': 'adam',\n",
       " 'tol': 0.0001,\n",
       " 'validation_fraction': 0.1,\n",
       " 'verbose': False,\n",
       " 'warm_start': False}"
      ]
     },
     "execution_count": 10,
     "metadata": {},
     "output_type": "execute_result"
    }
   ],
   "source": [
    "search.best_estimator_.get_params()"
   ]
  },
  {
   "cell_type": "code",
   "execution_count": 11,
   "metadata": {},
   "outputs": [],
   "source": [
    "df_test=pd.read_pickle('C:/Users/oefel/Documents/Datasets/group50')\n",
    "df_test=df_test[df_test['# Dataset']==2]\n",
    "df_test['Sex']=df_test['Sex'].map({'M':0,'F':1})\n",
    "X_test=df_test[['Sex','Height','Ability Score 1','Ability Score2']]\n",
    "y_test=df_test['Label']"
   ]
  },
  {
   "cell_type": "code",
   "execution_count": 12,
   "metadata": {},
   "outputs": [
    {
     "data": {
      "text/plain": [
       "0.8025"
      ]
     },
     "execution_count": 12,
     "metadata": {},
     "output_type": "execute_result"
    }
   ],
   "source": [
    "search.best_estimator_.score(X_test,y_test)"
   ]
  },
  {
   "cell_type": "code",
   "execution_count": 13,
   "metadata": {},
   "outputs": [],
   "source": [
    "acc=pd.read_pickle('./possibleacc.pkl')"
   ]
  },
  {
   "cell_type": "code",
   "execution_count": 14,
   "metadata": {},
   "outputs": [
    {
     "name": "stdout",
     "output_type": "stream",
     "text": [
      "possible accuracys          0.811344\n",
      "possible accuracys men      0.815281\n",
      "possible accuracys women    0.804031\n",
      "Expected Bias               0.011250\n",
      "Name: 49, dtype: float64\n"
     ]
    }
   ],
   "source": [
    "print(acc.iloc[49])"
   ]
  },
  {
   "cell_type": "markdown",
   "metadata": {},
   "source": [
    "## Decision Tree"
   ]
  },
  {
   "cell_type": "code",
   "execution_count": 22,
   "metadata": {},
   "outputs": [],
   "source": [
    "df=pd.read_pickle('C:/Users/oefel/Documents/Datasets/group50')\n",
    "df=df[df['# Dataset']==1]\n",
    "df['Sex']=df['Sex'].map({'M':0,'F':1})\n",
    "X=df[['Sex','Height','Ability Score 1','Ability Score2']]\n",
    "y=df['Label']"
   ]
  },
  {
   "cell_type": "code",
   "execution_count": 23,
   "metadata": {},
   "outputs": [
    {
     "name": "stderr",
     "output_type": "stream",
     "text": [
      "c:\\users\\oefel\\appdata\\local\\programs\\python\\python36\\lib\\site-packages\\sklearn\\model_selection\\_search.py:841: DeprecationWarning: The default of the `iid` parameter will change from True to False in version 0.22 and will be removed in 0.24. This will change numeric results when test-set sizes are unequal.\n",
      "  DeprecationWarning)\n"
     ]
    },
    {
     "data": {
      "text/plain": [
       "GridSearchCV(cv=10, error_score='raise-deprecating',\n",
       "       estimator=DecisionTreeClassifier(class_weight=None, criterion='gini', max_depth=None,\n",
       "            max_features=None, max_leaf_nodes=None,\n",
       "            min_impurity_decrease=0.0, min_impurity_split=None,\n",
       "            min_samples_leaf=1, min_samples_split=2,\n",
       "            min_weight_fraction_leaf=0.0, presort=False, random_state=None,\n",
       "            splitter='best'),\n",
       "       fit_params=None, iid='warn', n_jobs=None,\n",
       "       param_grid={'max_depth': [1, 2, 3, 4, None], 'min_samples_split': [2, 0.01, 0.05, 0.1], 'min_samples_leaf': [1, 0.01, 0.05, 0.1], 'max_features': [2, 3, 4]},\n",
       "       pre_dispatch='2*n_jobs', refit=True, return_train_score='warn',\n",
       "       scoring=None, verbose=0)"
      ]
     },
     "execution_count": 23,
     "metadata": {},
     "output_type": "execute_result"
    }
   ],
   "source": [
    "parameterlist={\n",
    "    'max_depth':[1,2,3,4,None],\n",
    "    'min_samples_split':[2,0.01,0.05,0.1],\n",
    "    'min_samples_leaf':[1,0.01,0.05,0.1],\n",
    "    'max_features':[2,3,4]\n",
    "}\n",
    "search=GridSearchCV(DecisionTreeClassifier(),param_grid=parameterlist, cv=10)\n",
    "search.fit(X,y)"
   ]
  },
  {
   "cell_type": "code",
   "execution_count": 24,
   "metadata": {},
   "outputs": [],
   "source": [
    "df_test=pd.read_pickle('C:/Users/oefel/Documents/Datasets/group50')\n",
    "df_test=df_test[df_test['# Dataset']==2]\n",
    "df_test['Sex']=df_test['Sex'].map({'M':0,'F':1})\n",
    "X_test=df_test[['Sex','Height','Ability Score 1','Ability Score2']]\n",
    "y_test=df_test['Label']"
   ]
  },
  {
   "cell_type": "code",
   "execution_count": 25,
   "metadata": {},
   "outputs": [
    {
     "name": "stdout",
     "output_type": "stream",
     "text": [
      "{'class_weight': None, 'criterion': 'gini', 'max_depth': 4, 'max_features': 3, 'max_leaf_nodes': None, 'min_impurity_decrease': 0.0, 'min_impurity_split': None, 'min_samples_leaf': 0.01, 'min_samples_split': 0.01, 'min_weight_fraction_leaf': 0.0, 'presort': False, 'random_state': None, 'splitter': 'best'}\n",
      "0.8035\n",
      "possible accuracys    0.810662\n",
      "Name: 49, dtype: float64\n"
     ]
    }
   ],
   "source": [
    "print(search.best_estimator_.get_params())\n",
    "print(search.best_estimator_.score(X_test,y_test))\n",
    "acc=pd.read_pickle('./possibleacc.pkl')\n",
    "print(acc.iloc[49])"
   ]
  },
  {
   "cell_type": "markdown",
   "metadata": {},
   "source": [
    "## SVM"
   ]
  },
  {
   "cell_type": "code",
   "execution_count": 10,
   "metadata": {},
   "outputs": [],
   "source": [
    "df=pd.read_pickle('C:/Users/oefel/Documents/Datasets/group50')\n",
    "df=df[df['# Dataset']==1]\n",
    "df['Sex']=df['Sex'].map({'M':0,'F':1})\n",
    "X=df[['Sex','Height','Ability Score 1','Ability Score2']]\n",
    "y=df['Label']"
   ]
  },
  {
   "cell_type": "code",
   "execution_count": 11,
   "metadata": {},
   "outputs": [
    {
     "data": {
      "text/plain": [
       "GridSearchCV(cv=10, error_score='raise-deprecating',\n",
       "       estimator=SVC(C=1.0, cache_size=200, class_weight=None, coef0=0.0,\n",
       "  decision_function_shape='ovr', degree=3, gamma='scale', kernel='rbf',\n",
       "  max_iter=-1, probability=False, random_state=None, shrinking=True,\n",
       "  tol=0.001, verbose=False),\n",
       "       fit_params=None, iid='warn', n_jobs=None,\n",
       "       param_grid={'C': [0.1, 0.5, 1, 1.5, 2, 3, 5], 'kernel': ['linear', 'rbf', 'poly', 'sigmoid']},\n",
       "       pre_dispatch='2*n_jobs', refit=True, return_train_score='warn',\n",
       "       scoring=None, verbose=0)"
      ]
     },
     "execution_count": 11,
     "metadata": {},
     "output_type": "execute_result"
    }
   ],
   "source": [
    "parameterlist={\n",
    "    'C':[0.1,0.5,1,1.5,2,3,5],\n",
    "    'kernel':['linear','rbf','poly','sigmoid']\n",
    "}\n",
    "search=GridSearchCV(SVC(gamma='scale'),param_grid=parameterlist, cv=10)\n",
    "search.fit(X,y)"
   ]
  },
  {
   "cell_type": "code",
   "execution_count": 12,
   "metadata": {},
   "outputs": [],
   "source": [
    "df_test=pd.read_pickle('C:/Users/oefel/Documents/Datasets/group50')\n",
    "df_test=df_test[df_test['# Dataset']==2]\n",
    "df_test['Sex']=df_test['Sex'].map({'M':0,'F':1})\n",
    "X_test=df_test[['Sex','Height','Ability Score 1','Ability Score2']]\n",
    "y_test=df_test['Label']"
   ]
  },
  {
   "cell_type": "code",
   "execution_count": 13,
   "metadata": {},
   "outputs": [
    {
     "name": "stdout",
     "output_type": "stream",
     "text": [
      "{'C': 1.5, 'cache_size': 200, 'class_weight': None, 'coef0': 0.0, 'decision_function_shape': 'ovr', 'degree': 3, 'gamma': 'scale', 'kernel': 'rbf', 'max_iter': -1, 'probability': False, 'random_state': None, 'shrinking': True, 'tol': 0.001, 'verbose': False}\n",
      "0.812\n",
      "possible accuracys    0.810662\n",
      "Name: 49, dtype: float64\n"
     ]
    }
   ],
   "source": [
    "print(search.best_estimator_.get_params())\n",
    "print(search.best_estimator_.score(X_test,y_test))\n",
    "acc=pd.read_pickle('./possibleacc.pkl')\n",
    "print(acc.iloc[49])"
   ]
  },
  {
   "cell_type": "code",
   "execution_count": null,
   "metadata": {},
   "outputs": [],
   "source": []
  }
 ],
 "metadata": {
  "kernelspec": {
   "display_name": "Python 3",
   "language": "python",
   "name": "python3"
  },
  "language_info": {
   "codemirror_mode": {
    "name": "ipython",
    "version": 3
   },
   "file_extension": ".py",
   "mimetype": "text/x-python",
   "name": "python",
   "nbconvert_exporter": "python",
   "pygments_lexer": "ipython3",
   "version": "3.6.8"
  }
 },
 "nbformat": 4,
 "nbformat_minor": 2
}
