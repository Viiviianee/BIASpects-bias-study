{
 "cells": [
  {
   "cell_type": "markdown",
   "metadata": {},
   "source": [
    "# Import Data"
   ]
  },
  {
   "cell_type": "code",
   "execution_count": 1,
   "metadata": {},
   "outputs": [],
   "source": [
    "import pickle\n",
    "import pandas\n",
    "with open('DF_Results_SVM.pkl', 'rb') as f:\n",
    "    data = pickle.load(f)\n"
   ]
  },
  {
   "cell_type": "code",
   "execution_count": 2,
   "metadata": {},
   "outputs": [],
   "source": [
    "with open('DF_Results_NB.pkl', 'rb') as f:\n",
    "    data_nb = pickle.load(f)"
   ]
  },
  {
   "cell_type": "code",
   "execution_count": 3,
   "metadata": {},
   "outputs": [],
   "source": [
    "with open('DF_Results_tree.pkl','rb') as f:\n",
    "    data_tree=pickle.load(f)"
   ]
  },
  {
   "cell_type": "markdown",
   "metadata": {},
   "source": [
    "# Calculate Accuracy and Bias"
   ]
  },
  {
   "cell_type": "code",
   "execution_count": 4,
   "metadata": {},
   "outputs": [],
   "source": [
    "accuracy_men=[]\n",
    "accuracy_women=[]\n",
    "accuracy_bias=[]\n",
    "\n",
    "for i in range(0,len(data)):\n",
    "    acc_men=(data['Confusion Matrix Men'][i][0,0]+data['Confusion Matrix Men'][i][1,1])/(1000*data['Ratio Men'][i])\n",
    "    accuracy_men.append(float(acc_men))\n",
    "    acc_women=(data['Confusion Matrix Women'][i][0,0]+data['Confusion Matrix Women'][i][1,1])/(1000*(1-data['Ratio Men'][i]))\n",
    "    accuracy_women.append(float(acc_women))\n",
    "    acc_bias=acc_men-acc_women\n",
    "    accuracy_bias.append(float(acc_bias))\n",
    "\n",
    "data['Accuracy Men']=accuracy_men\n",
    "data[\"Accuracy Women\"]=accuracy_women\n",
    "data['Bias']=accuracy_bias\n",
    "\n",
    "data['Absolute Bias']=data['Bias'].abs()\n",
    "data['Absolute Difference']=data['Difference Probabilities'].abs()\n",
    "data['Informativeness Men']=data['Probability Men'].astype(float)-([0.5]*len(data))\n",
    "data['Informativeness Men']=data['Informativeness Men'].abs().round(2)\n",
    "data['Informativeness Women']=data['Probability Women'].astype(float)-([0.5]*len(data))\n",
    "data['Informativeness Women']=data['Informativeness Women'].abs().round(2)\n",
    "    "
   ]
  },
  {
   "cell_type": "code",
   "execution_count": null,
   "metadata": {},
   "outputs": [],
   "source": [
    "accuracy_men_nb=[]\n",
    "accuracy_women_nb=[]\n",
    "accuracy_bias_nb=[]\n",
    "\n",
    "for i in range(0,len(data_nb)):\n",
    "    acc_men=(data_nb['Confusion Matrix Men'][i][0,0]+data_nb['Confusion Matrix Men'][i][1,1])/(1000*data_nb['Ratio Men'][i])\n",
    "    accuracy_men_nb.append(float(acc_men))\n",
    "    acc_women=(data_nb['Confusion Matrix Women'][i][0,0]+data_nb['Confusion Matrix Women'][i][1,1])/(1000*(1-data_nb['Ratio Men'][i]))\n",
    "    accuracy_women_nb.append(float(acc_women))\n",
    "    acc_bias=acc_men-acc_women\n",
    "    accuracy_bias_nb.append(float(acc_bias))\n",
    "\n",
    "data_nb['Accuracy Men']=accuracy_men_nb\n",
    "data_nb[\"Accuracy Women\"]=accuracy_women_nb\n",
    "data_nb['Bias']=accuracy_bias_nb\n",
    "\n",
    "data_nb['Absolute Bias']=data_nb['Bias'].abs()\n",
    "data_nb['Absolute Difference']=data_nb['Difference Probabilities'].abs()\n",
    "data_nb['Informativeness Men']=data_nb['Probability Men'].astype(float)-([0.5]*len(data))\n",
    "data_nb['Informativeness Men']=data_nb['Informativeness Men'].abs().round(2)\n",
    "data_nb['Informativeness Women']=data_nb['Probability Women'].astype(float)-([0.5]*len(data))\n",
    "data_nb['Informativeness Women']=data_nb['Informativeness Women'].abs().round(2)\n",
    "    "
   ]
  },
  {
   "cell_type": "code",
   "execution_count": null,
   "metadata": {},
   "outputs": [],
   "source": [
    "accuracy_men_tree=[]\n",
    "accuracy_women_tree=[]\n",
    "accuracy_bias_tree=[]\n",
    "\n",
    "for i in range(0,len(data_tree)):\n",
    "    acc_men=(data_tree['Confusion Matrix Men'][i][0,0]+data_tree['Confusion Matrix Men'][i][1,1])/(1000*data_tree['Ratio Men'][i])\n",
    "    accuracy_men_tree.append(float(acc_men))\n",
    "    acc_women=(data_tree['Confusion Matrix Women'][i][0,0]+data_tree['Confusion Matrix Women'][i][1,1])/(1000*(1-data_tree['Ratio Men'][i]))\n",
    "    accuracy_women_tree.append(float(acc_women))\n",
    "    acc_bias=acc_men-acc_women\n",
    "    accuracy_bias_tree.append(float(acc_bias))\n",
    "\n",
    "data_tree['Accuracy Men']=accuracy_men_tree\n",
    "data_tree[\"Accuracy Women\"]=accuracy_women_tree\n",
    "data_tree['Bias']=accuracy_bias_tree\n",
    "\n",
    "data_tree['Absolute Bias']=data_tree['Bias'].abs()\n",
    "data_tree['Absolute Difference']=data_tree['Difference Probabilities'].abs()\n",
    "data_tree['Informativeness Men']=data_tree['Probability Men'].astype(float)-([0.5]*len(data))\n",
    "data_tree['Informativeness Men']=data_tree['Informativeness Men'].abs().round(2)\n",
    "data_tree['Informativeness Women']=data_tree['Probability Women'].astype(float)-([0.5]*len(data))\n",
    "data_tree['Informativeness Women']=data_tree['Informativeness Women'].abs().round(2)\n",
    " \n",
    "    "
   ]
  },
  {
   "cell_type": "markdown",
   "metadata": {},
   "source": [
    "# Show Data\n"
   ]
  },
  {
   "cell_type": "code",
   "execution_count": null,
   "metadata": {
    "scrolled": true
   },
   "outputs": [],
   "source": [
    "data[1:6]"
   ]
  },
  {
   "cell_type": "code",
   "execution_count": null,
   "metadata": {},
   "outputs": [],
   "source": [
    "data_nb[1:6]"
   ]
  },
  {
   "cell_type": "code",
   "execution_count": null,
   "metadata": {},
   "outputs": [],
   "source": [
    "data_tree[1:6]"
   ]
  },
  {
   "cell_type": "markdown",
   "metadata": {},
   "source": [
    "# Describe our Data"
   ]
  },
  {
   "cell_type": "code",
   "execution_count": null,
   "metadata": {},
   "outputs": [],
   "source": [
    "print(\"Descriptive Probability Men /n\")\n",
    "print(data['Probability Men'].value_counts())\n",
    "print(\"/n Descriptive Probability Women /n\")\n",
    "print(data['Probability Women'].value_counts())\n",
    "print(\"/n Descriptive Differences /n\")\n",
    "print(data['Difference Probabilities'].value_counts())\n"
   ]
  },
  {
   "cell_type": "code",
   "execution_count": null,
   "metadata": {},
   "outputs": [],
   "source": [
    "print(\"/n Descriptive Accuracy Men /n\")\n",
    "print(data['Accuracy Men'].describe())\n",
    "print(\"/n Descriptive Accuracy Women /n\")\n",
    "print(data['Accuracy Women'].describe())\n",
    "print(\"/n Descriptive Accuracy Bias /n\")\n",
    "print(data['Bias'].describe())"
   ]
  },
  {
   "cell_type": "code",
   "execution_count": null,
   "metadata": {},
   "outputs": [],
   "source": [
    "print(\"/n Descriptive Accuracy Men /n\")\n",
    "print(data_nb['Accuracy Men'].describe())\n",
    "print(\"/n Descriptive Accuracy Women /n\")\n",
    "print(data_nb['Accuracy Women'].describe())\n",
    "print(\"/n Descriptive Accuracy Bias /n\")\n",
    "print(data_nb['Bias'].describe())"
   ]
  },
  {
   "cell_type": "code",
   "execution_count": null,
   "metadata": {},
   "outputs": [],
   "source": [
    "print(\"/n Descriptive Accuracy Men /n\")\n",
    "print(data_tree['Accuracy Men'].describe())\n",
    "print(\"/n Descriptive Accuracy Women /n\")\n",
    "print(data_tree['Accuracy Women'].describe())\n",
    "print(\"/n Descriptive Accuracy Bias /n\")\n",
    "print(data_tree['Bias'].describe())"
   ]
  },
  {
   "cell_type": "code",
   "execution_count": null,
   "metadata": {},
   "outputs": [],
   "source": [
    "data.rename(columns={'Difference Probabilities':'Difference_Probabilities',\n",
    "                          'Probability Men':'Probability_Men',\n",
    "                          'Ratio Men':'Ratio_Men'}, \n",
    "                 inplace=True)"
   ]
  },
  {
   "cell_type": "code",
   "execution_count": null,
   "metadata": {},
   "outputs": [],
   "source": [
    "data_nb.rename(columns={'Difference Probabilities':'Difference_Probabilities',\n",
    "                          'Probability Men':'Probability_Men',\n",
    "                          'Ratio Men':'Ratio_Men'}, \n",
    "                 inplace=True)"
   ]
  },
  {
   "cell_type": "code",
   "execution_count": null,
   "metadata": {},
   "outputs": [],
   "source": [
    "data_tree.rename(columns={'Difference Probabilities':'Difference_Probabilities',\n",
    "                          'Probability Men':'Probability_Men',\n",
    "                          'Ratio Men':'Ratio_Men'}, \n",
    "                 inplace=True)"
   ]
  },
  {
   "cell_type": "markdown",
   "metadata": {},
   "source": [
    "# Visualization"
   ]
  },
  {
   "cell_type": "code",
   "execution_count": null,
   "metadata": {},
   "outputs": [],
   "source": [
    "data_50=data[data['Ratio_Men'].astype(str)=='0.50']\n",
    "data_65=data[data['Ratio_Men'].astype(str)=='0.65']\n",
    "data_80=data[data['Ratio_Men'].astype(str)=='0.80']\n",
    "data_95=data[data['Ratio_Men'].astype(str)=='0.95']"
   ]
  },
  {
   "cell_type": "code",
   "execution_count": null,
   "metadata": {},
   "outputs": [],
   "source": [
    "data_nb_50=data_nb[data_nb['Ratio_Men'].astype(str)=='0.50']\n",
    "data_nb_65=data_nb[data_nb['Ratio_Men'].astype(str)=='0.65']\n",
    "data_nb_80=data_nb[data_nb['Ratio_Men'].astype(str)=='0.80']\n",
    "data_nb_95=data_nb[data_nb['Ratio_Men'].astype(str)=='0.95']"
   ]
  },
  {
   "cell_type": "code",
   "execution_count": null,
   "metadata": {},
   "outputs": [],
   "source": [
    "data_tree_50=data_tree[data_tree['Ratio_Men'].astype(str)=='0.50']\n",
    "data_tree_65=data_tree[data_tree['Ratio_Men'].astype(str)=='0.65']\n",
    "data_tree_80=data_tree[data_tree['Ratio_Men'].astype(str)=='0.80']\n",
    "data_tree_95=data_tree[data_tree['Ratio_Men'].astype(str)=='0.95']"
   ]
  },
  {
   "cell_type": "code",
   "execution_count": null,
   "metadata": {
    "scrolled": true
   },
   "outputs": [],
   "source": [
    "import plotly.express as px\n"
   ]
  },
  {
   "cell_type": "code",
   "execution_count": null,
   "metadata": {},
   "outputs": [],
   "source": [
    "fig = px.box(data_50, x=\"Absolute Difference\", y=\"Bias\", color=\"Informativeness Men\",\n",
    "             notched=True, # used notched shape\n",
    "             title=\"Box plot of Bias - Ratio Men= 50% - Absolute Deviations\"\n",
    "            )\n",
    "fig.show()"
   ]
  },
  {
   "cell_type": "code",
   "execution_count": null,
   "metadata": {
    "scrolled": false
   },
   "outputs": [],
   "source": [
    "fig = px.box(data_50, x=\"Difference_Probabilities\", y=\"Bias\", color=\"Probability_Men\",\n",
    "             notched=True, # used notched shape\n",
    "             title=\"Box plot of Bias - Ratio Men= 50%\"\n",
    "            )\n",
    "fig.show()"
   ]
  },
  {
   "cell_type": "code",
   "execution_count": null,
   "metadata": {},
   "outputs": [],
   "source": [
    "fig = px.box(data_nb_50, x=\"Difference_Probabilities\", y=\"Bias\", color=\"Probability_Men\",\n",
    "             notched=True, # used notched shape\n",
    "             title=\"Naive Bayes - Box plot of Bias - Ratio Men= 50%\"\n",
    "            )\n",
    "fig.show()"
   ]
  },
  {
   "cell_type": "code",
   "execution_count": null,
   "metadata": {},
   "outputs": [],
   "source": [
    "fig = px.box(data_tree_50, x=\"Difference_Probabilities\", y=\"Bias\", color=\"Probability_Men\",\n",
    "             notched=True, # used notched shape\n",
    "             title=\"Decision Tree - Box plot of Bias - Ratio Men= 50%\"\n",
    "            )\n",
    "fig.show()"
   ]
  },
  {
   "cell_type": "code",
   "execution_count": null,
   "metadata": {
    "scrolled": false
   },
   "outputs": [],
   "source": [
    "fig = px.box(data_65, x=\"Difference_Probabilities\", y=\"Bias\", color=\"Probability_Men\",\n",
    "             notched=True, # used notched shape\n",
    "             title=\"Box plot of Bias - Ratio Men= 65%\"\n",
    "            )\n",
    "fig.show()"
   ]
  },
  {
   "cell_type": "code",
   "execution_count": null,
   "metadata": {},
   "outputs": [],
   "source": [
    "fig = px.box(data_65, x=\"Absolute Difference\", y=\"Bias\", color=\"Informativeness Men\",\n",
    "             notched=True, # used notched shape\n",
    "             title=\"Box plot of Bias - Ratio Men= 65% - Absolute Deviations\"\n",
    "            )\n",
    "fig.show()"
   ]
  },
  {
   "cell_type": "code",
   "execution_count": null,
   "metadata": {
    "scrolled": true
   },
   "outputs": [],
   "source": [
    "fig = px.box(data_80, x=\"Difference_Probabilities\", y=\"Bias\", color=\"Probability_Men\",\n",
    "             notched=True, # used notched shape\n",
    "             title=\"Box plot of Bias - Ratio Men= 80%\"\n",
    "            )\n",
    "fig.show()"
   ]
  },
  {
   "cell_type": "code",
   "execution_count": null,
   "metadata": {
    "scrolled": true
   },
   "outputs": [],
   "source": [
    "fig = px.box(data_95, x=\"Difference_Probabilities\", y=\"Bias\", color=\"Probability_Men\",\n",
    "             notched=True, # used notched shape\n",
    "             title=\"Box plot of Bias  - Ratio Men= 95%\"\n",
    "            )\n",
    "fig.show()"
   ]
  },
  {
   "cell_type": "code",
   "execution_count": null,
   "metadata": {
    "scrolled": true
   },
   "outputs": [],
   "source": [
    "fig = px.box(data_nb_95, x=\"Difference_Probabilities\", y=\"Bias\", color=\"Probability_Men\",\n",
    "             notched=True, # used notched shape\n",
    "             title=\"Naive Bayes - Box plot of Bias  - Ratio Men= 95%\"\n",
    "            )\n",
    "fig.show()"
   ]
  },
  {
   "cell_type": "code",
   "execution_count": null,
   "metadata": {},
   "outputs": [],
   "source": [
    "fig = px.box(data_tree_95, x=\"Difference_Probabilities\", y=\"Bias\", color=\"Probability_Men\",\n",
    "             notched=True, # used notched shape\n",
    "             title=\"Decision Tree - Box plot of Bias  - Ratio Men= 95%\"\n",
    "            )\n",
    "fig.show()"
   ]
  },
  {
   "cell_type": "code",
   "execution_count": null,
   "metadata": {},
   "outputs": [],
   "source": [
    "fig = px.box(data_50, x=\"Probability Women\", y=\"Bias\", color=\"Probability_Men\",\n",
    "             notched=True, # used notched shape\n",
    "             title=\"Box plot of Bias  - Ratio Men= 95%\"\n",
    "            )\n",
    "fig.show()"
   ]
  },
  {
   "cell_type": "code",
   "execution_count": null,
   "metadata": {},
   "outputs": [],
   "source": [
    "fig = px.box(data_65, x=\"Probability Women\", y=\"Bias\", color=\"Probability_Men\",\n",
    "             notched=True, # used notched shape\n",
    "             title=\"Box plot of Bias  - Ratio Men= 95%\"\n",
    "            )\n",
    "fig.show()"
   ]
  },
  {
   "cell_type": "code",
   "execution_count": null,
   "metadata": {},
   "outputs": [],
   "source": [
    "fig = px.box(data_80, x=\"Probability Women\", y=\"Bias\", color=\"Probability_Men\",\n",
    "             notched=True, # used notched shape\n",
    "             title=\"Box plot of Bias  - Ratio Men= 95%\"\n",
    "            )\n",
    "fig.show()"
   ]
  },
  {
   "cell_type": "code",
   "execution_count": null,
   "metadata": {},
   "outputs": [],
   "source": [
    "fig = px.box(data_95, x=\"Probability Women\", y=\"Bias\", color=\"Probability_Men\",\n",
    "             notched=True, # used notched shape\n",
    "             title=\"Box plot of Bias  - Ratio Men= 95%\"\n",
    "            )\n",
    "fig.show()"
   ]
  },
  {
   "cell_type": "code",
   "execution_count": null,
   "metadata": {},
   "outputs": [],
   "source": []
  },
  {
   "cell_type": "code",
   "execution_count": null,
   "metadata": {},
   "outputs": [],
   "source": [
    "import statsmodels.api as sm\n",
    "import statsmodels.formula.api as smf"
   ]
  },
  {
   "cell_type": "code",
   "execution_count": null,
   "metadata": {},
   "outputs": [],
   "source": [
    "md = smf.mixedlm(\"Bias ~ Difference_Probabilities + Ratio_Men + Difference_Probabilities*Ratio_Men\", data, groups=data[\"Probability_Men\"])\n",
    "mdf = md.fit()\n",
    "print(mdf.summary())"
   ]
  },
  {
   "cell_type": "code",
   "execution_count": null,
   "metadata": {},
   "outputs": [],
   "source": [
    "md = smf.mixedlm(\"Bias ~ Ratio_Men\", data, groups=data[\"Probability_Men\"])\n",
    "mdf = md.fit()\n",
    "print(mdf.summary())"
   ]
  },
  {
   "cell_type": "code",
   "execution_count": null,
   "metadata": {
    "scrolled": true
   },
   "outputs": [],
   "source": [
    "md = smf.mixedlm(\"Bias ~ Difference_Probabilities\", data, groups=data[\"Probability_Men\"])\n",
    "mdf = md.fit()\n",
    "print(mdf.summary())"
   ]
  },
  {
   "cell_type": "code",
   "execution_count": null,
   "metadata": {},
   "outputs": [],
   "source": [
    "acmen_sd=data.loc[:,\"Accuracy Men\"].std()\n",
    "acmen_mean=data.loc[:,\"Accuracy Men\"].mean()\n",
    "acwomen_sd=data.loc[:,\"Accuracy Women\"].std()\n",
    "acwomen_mean=data.loc[:,\"Accuracy Women\"].mean()\n",
    "bias_ds=data.loc[:,\"Bias\"].std()\n",
    "bias_mean=data.loc[:,\"Bias\"].mean()"
   ]
  },
  {
   "cell_type": "code",
   "execution_count": null,
   "metadata": {},
   "outputs": [],
   "source": [
    "amm=[]\n",
    "amsd=[]\n",
    "afm=[]\n",
    "afsd=[]\n",
    "biasm=[]\n",
    "biassd=[]\n",
    "for i in range(1,149): \n",
    "    data_group=data[data['Exp. Group']==i]\n",
    "    amm.append(data_group.loc[:,'Accuracy Men'].mean())\n",
    "    amsd.append(data_group.loc[:,'Accuracy Men'].std())\n",
    "    afm.append(data_group.loc[:,'Accuracy Women'].mean())           \n",
    "    afsd.append(data_group.loc[:,'Accuracy Women'].std())\n",
    "    biasm.append(data_group.loc[:,'Bias'].mean())\n",
    "    biassd.append(data_group.loc[:,'Bias'].std())\n",
    "    \n",
    "import pandas as pd\n",
    "data_group_svm=pd.DataFrame()\n",
    "data_group_svm['Mean Accuracy Men']=amm\n",
    "data_group_svm['SD Accuracy Men']=amsd\n",
    "data_group_svm['Mean Accuracy Women']=afm\n",
    "data_group_svm['SD Accuracy Women']=afsd\n",
    "data_group_svm['Mean Bias']=biasm\n",
    "data_group_svm['SD Bias']=biassd\n",
    "\n",
    "data_group_svm\n",
    "    "
   ]
  },
  {
   "cell_type": "code",
   "execution_count": null,
   "metadata": {},
   "outputs": [],
   "source": [
    "amm=[]\n",
    "amsd=[]\n",
    "afm=[]\n",
    "afsd=[]\n",
    "biasm=[]\n",
    "biassd=[]\n",
    "for i in range(1,149): \n",
    "    data_group=data_nb[data_nb['Exp. Group']==i]\n",
    "    amm.append(data_group.loc[:,'Accuracy Men'].mean())\n",
    "    amsd.append(data_group.loc[:,'Accuracy Men'].std())\n",
    "    afm.append(data_group.loc[:,'Accuracy Women'].mean())           \n",
    "    afsd.append(data_group.loc[:,'Accuracy Women'].std())\n",
    "    biasm.append(data_group.loc[:,'Bias'].mean())\n",
    "    biassd.append(data_group.loc[:,'Bias'].std())\n",
    "    \n",
    "import pandas as pd\n",
    "data_group_nb=pd.DataFrame()\n",
    "data_group_nb['Mean Accuracy Men']=amm\n",
    "data_group_nb['SD Accuracy Men']=amsd\n",
    "data_group_nb['Mean Accuracy Women']=afm\n",
    "data_group_nb['SD Accuracy Women']=afsd\n",
    "data_group_nb['Mean Bias']=biasm\n",
    "data_group_nb['SD Bias']=biassd\n",
    "\n",
    "data_group_nb"
   ]
  },
  {
   "cell_type": "code",
   "execution_count": null,
   "metadata": {},
   "outputs": [],
   "source": [
    "amm=[]\n",
    "amsd=[]\n",
    "afm=[]\n",
    "afsd=[]\n",
    "biasm=[]\n",
    "biassd=[]\n",
    "for i in range(1,149): \n",
    "    data_group=data_tree[data_tree['Exp. Group']==i]\n",
    "    amm.append(data_group.loc[:,'Accuracy Men'].mean())\n",
    "    amsd.append(data_group.loc[:,'Accuracy Men'].std())\n",
    "    afm.append(data_group.loc[:,'Accuracy Women'].mean())           \n",
    "    afsd.append(data_group.loc[:,'Accuracy Women'].std())\n",
    "    biasm.append(data_group.loc[:,'Bias'].mean())\n",
    "    biassd.append(data_group.loc[:,'Bias'].std())\n",
    "    \n",
    "import pandas as pd\n",
    "data_group_tree=pd.DataFrame()\n",
    "data_group_tree['Mean Accuracy Men']=amm\n",
    "data_group_tree['SD Accuracy Men']=amsd\n",
    "data_group_tree['Mean Accuracy Women']=afm\n",
    "data_group_tree['SD Accuracy Women']=afsd\n",
    "data_group_tree['Mean Bias']=biasm\n",
    "data_group_tree['SD Bias']=biassd\n",
    "\n",
    "data_group_tree"
   ]
  },
  {
   "cell_type": "markdown",
   "metadata": {},
   "source": [
    "# Hypothesis 1: T-Test"
   ]
  },
  {
   "cell_type": "code",
   "execution_count": null,
   "metadata": {},
   "outputs": [],
   "source": [
    "data_equalratio=data[data['Ratio_Men']==0.5]"
   ]
  },
  {
   "cell_type": "code",
   "execution_count": null,
   "metadata": {},
   "outputs": [],
   "source": [
    "h1_acmen_sd=data_equalratio.loc[:,\"Accuracy Men\"].std()\n",
    "h1_acmen_mean=data_equalratio.loc[:,\"Accuracy Men\"].mean()\n",
    "h1_acwomen_sd=data_equalratio.loc[:,\"Accuracy Women\"].std()\n",
    "h1_acwomen_mean=data_equalratio.loc[:,\"Accuracy Women\"].mean()\n",
    "h1_nobs=int(len(data_equalratio)/2)\n",
    "h1_bias_ds=data_equalratio.loc[:,\"Bias\"].std()\n",
    "h1_bias_mean=data_equalratio.loc[:,\"Bias\"].mean()"
   ]
  },
  {
   "cell_type": "code",
   "execution_count": null,
   "metadata": {},
   "outputs": [],
   "source": [
    "print(h1_acmen_sd)\n",
    "print(h1_acwomen_sd)"
   ]
  },
  {
   "cell_type": "code",
   "execution_count": null,
   "metadata": {},
   "outputs": [],
   "source": [
    "from scipy.stats import ttest_ind_from_stats\n",
    "ttest_ind_from_stats(mean1=h1_acmen_mean, std1=h1_acmen_sd, nobs1=h1_nobs,mean2=h1_acwomen_mean, std2=h1_acwomen_sd, nobs2=h1_nobs)"
   ]
  },
  {
   "cell_type": "markdown",
   "metadata": {},
   "source": [
    "## TOST (Äquivalenz-Test)"
   ]
  },
  {
   "cell_type": "code",
   "execution_count": null,
   "metadata": {},
   "outputs": [],
   "source": [
    "import statsmodels.stats\n",
    "from statsmodels.stats import *"
   ]
  },
  {
   "cell_type": "code",
   "execution_count": null,
   "metadata": {},
   "outputs": [],
   "source": [
    "statsmodels.stats.weightstats.ttost_ind(data_equalratio['Accuracy Men'], data_equalratio['Accuracy Women'], -0.0116, 0.0116, usevar='pooled', weights=(None, None), transform=None)"
   ]
  },
  {
   "cell_type": "markdown",
   "metadata": {},
   "source": [
    "# Hypothesis 2: TOST\n",
    "\n"
   ]
  },
  {
   "cell_type": "code",
   "execution_count": null,
   "metadata": {},
   "outputs": [],
   "source": [
    "data_nodiff=data[data['Difference_Probabilities']==0]"
   ]
  },
  {
   "cell_type": "code",
   "execution_count": null,
   "metadata": {},
   "outputs": [],
   "source": [
    "statsmodels.stats.weightstats.ttost_ind(data_nodiff['Accuracy Men'], data_nodiff['Accuracy Women'], -0.0116, 0.0116, usevar='pooled', weights=(None, None), transform=None)"
   ]
  },
  {
   "cell_type": "markdown",
   "metadata": {},
   "source": [
    "# Hypothesis 3"
   ]
  },
  {
   "cell_type": "markdown",
   "metadata": {},
   "source": [
    "## Include only data that has overrepresentation and difference between women and men\n"
   ]
  },
  {
   "cell_type": "code",
   "execution_count": null,
   "metadata": {},
   "outputs": [],
   "source": [
    "data_or=data[data['Ratio_Men']!=0.5]\n",
    "data_ordiff=data_or[data_or['Difference_Probabilities']!=0]"
   ]
  },
  {
   "cell_type": "code",
   "execution_count": null,
   "metadata": {},
   "outputs": [],
   "source": [
    "len(data_ordiff)"
   ]
  },
  {
   "cell_type": "code",
   "execution_count": null,
   "metadata": {},
   "outputs": [],
   "source": []
  }
 ],
 "metadata": {
  "kernelspec": {
   "display_name": "Python 3",
   "language": "python",
   "name": "python3"
  },
  "language_info": {
   "codemirror_mode": {
    "name": "ipython",
    "version": 3
   },
   "file_extension": ".py",
   "mimetype": "text/x-python",
   "name": "python",
   "nbconvert_exporter": "python",
   "pygments_lexer": "ipython3",
   "version": "3.6.8"
  }
 },
 "nbformat": 4,
 "nbformat_minor": 2
}
