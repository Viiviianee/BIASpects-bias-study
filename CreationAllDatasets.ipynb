{
 "cells": [
  {
   "cell_type": "code",
   "execution_count": 1,
   "metadata": {},
   "outputs": [
    {
     "name": "stderr",
     "output_type": "stream",
     "text": [
      "c:\\users\\marcel öfele\\appdata\\local\\programs\\python\\python36\\lib\\site-packages\\numpy\\core\\__init__.py:29: UserWarning: loaded more than 1 DLL from .libs:\n",
      "c:\\users\\marcel öfele\\appdata\\local\\programs\\python\\python36\\lib\\site-packages\\numpy\\.libs\\libopenblas.IPBC74C7KURV7CB2PKT5Z5FNR3SIBV4J.gfortran-win_amd64.dll\n",
      "c:\\users\\marcel öfele\\appdata\\local\\programs\\python\\python36\\lib\\site-packages\\numpy\\.libs\\libopenblas.TXA6YQSD3GCQQC22GEQ54J2UDCXDXHWN.gfortran-win_amd64.dll\n",
      "  stacklevel=1)\n"
     ]
    }
   ],
   "source": [
    "import random\n",
    "import pandas as pd\n",
    "\n",
    "def createSample(group,ratio,mean_s1,mean_s2,std_s1,std_s2,diff_means,sex):\n",
    "    if sex=='M':\n",
    "        height=random.gauss(178.4,7.6)\n",
    "        s1=random.gauss(mean_s1,std_s1)\n",
    "        s2=random.gauss(mean_s2,std_s2)\n",
    "        s1_noise=s1+random.gauss(0,0.2)\n",
    "        s2_noise=s2+random.gauss(0,0.2)\n",
    "    else:\n",
    "        height=random.gauss(164.7,7.1)\n",
    "        s1=random.gauss(mean_s1*diff_means,std_s1)\n",
    "        s2=random.gauss(mean_s2*diff_means,std_s2)\n",
    "        s1_noise=s1+random.gauss(0,0.2)\n",
    "        s2_noise=s2+random.gauss(0,0.2)\n",
    "    \n",
    "    if s1+s2>=10:\n",
    "        label=1\n",
    "    else:\n",
    "        label=0\n",
    "        \n",
    "    sample=[group,ratio,mean_s1,mean_s2,diff_means,s1,s2,s1_noise,s2_noise,height,sex,label]\n",
    "    return sample\n",
    "\n",
    "\n",
    "\n",
    "#defining factors\n",
    "ratios=[0.5,0.65,0.8,0.95]  #factor 1\n",
    "means_s1=[7,6.61468,6.15838,5.35515]\n",
    "means_s2=[3,2.42202,1.73757,0.532725]\n",
    "std_s1=1\n",
    "std_s2=1.5\n",
    "diff_means=[1,0.75,0.5,0.25]\n",
    "n=1000\n",
    "\n",
    "#creating dataset\n",
    "df_list=[]\n",
    "group=1\n",
    "for ratio in ratios:\n",
    "    for mean_s1,mean_s2 in zip(means_s1,means_s2):\n",
    "        for diff_mean in diff_means:\n",
    "            \n",
    "            for i in range(0,int(n*ratio)):\n",
    "                df_list.append(createSample(group,ratio,mean_s1,mean_s2,std_s1,std_s2,diff_mean,'M'))\n",
    "\n",
    "            for i in range(0,int(n*(1-ratio))):\n",
    "                df_list.append(createSample(group,ratio,mean_s1,mean_s2,std_s1,std_s2,diff_mean,'F'))\n",
    "                \n",
    "            group+=1\n",
    "    \n",
    "df=pd.DataFrame(df_list)\n",
    "df.columns=['Group','Ratio','Mean S1','Mean S2', 'Difference Means', 'S1', 'S2','S1 Noise', 'S2 Noise', 'Height', 'Sex', 'Label']"
   ]
  },
  {
   "cell_type": "code",
   "execution_count": 4,
   "metadata": {},
   "outputs": [
    {
     "name": "stdout",
     "output_type": "stream",
     "text": [
      "767808\n",
      "              Group         Ratio       Mean S1       Mean S2  \\\n",
      "count  63984.000000  63984.000000  63984.000000  63984.000000   \n",
      "mean      32.497999      0.724981      6.282052      1.923079   \n",
      "std       18.474830      0.167723      0.612486      0.918729   \n",
      "min        1.000000      0.500000      5.355150      0.532725   \n",
      "25%       16.000000      0.500000      5.957572      1.436359   \n",
      "50%       32.000000      0.650000      6.386530      2.079795   \n",
      "75%       49.000000      0.950000      6.711010      2.566515   \n",
      "max       64.000000      0.950000      7.000000      3.000000   \n",
      "\n",
      "       Difference Means            S1            S2      S1 Noise  \\\n",
      "count      63984.000000  63984.000000  63984.000000  63984.000000   \n",
      "mean           0.625000      5.638418      1.724275      5.638683   \n",
      "std            0.279511      1.812879      1.776126      1.823503   \n",
      "min            0.250000     -2.151633     -5.429404     -2.161880   \n",
      "25%            0.437500      4.775267      0.511734      4.764855   \n",
      "50%            0.625000      5.943301      1.731043      5.933215   \n",
      "75%            0.812500      6.877198      2.947909      6.887392   \n",
      "max            1.000000     11.089663      8.815534     11.167556   \n",
      "\n",
      "           S2 Noise        Height         Label  \n",
      "count  63984.000000  63984.000000  63984.000000  \n",
      "mean       1.724844    174.567710      0.187344  \n",
      "std        1.787684      9.618228      0.390190  \n",
      "min       -5.819928    133.787561      0.000000  \n",
      "25%        0.505247    168.001113      0.000000  \n",
      "50%        1.732043    175.141234      0.000000  \n",
      "75%        2.955179    181.446118      0.000000  \n",
      "max        8.832355    210.382464      1.000000  \n"
     ]
    }
   ],
   "source": [
    "print(df.size)\n",
    "print(df.describe())"
   ]
  },
  {
   "cell_type": "code",
   "execution_count": null,
   "metadata": {},
   "outputs": [],
   "source": []
  }
 ],
 "metadata": {
  "kernelspec": {
   "display_name": "Python 3",
   "language": "python",
   "name": "python3"
  },
  "language_info": {
   "codemirror_mode": {
    "name": "ipython",
    "version": 3
   },
   "file_extension": ".py",
   "mimetype": "text/x-python",
   "name": "python",
   "nbconvert_exporter": "python",
   "pygments_lexer": "ipython3",
   "version": "3.6.8"
  }
 },
 "nbformat": 4,
 "nbformat_minor": 4
}
