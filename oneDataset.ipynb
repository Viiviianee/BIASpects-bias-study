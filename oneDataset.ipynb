{
 "cells": [
  {
   "cell_type": "code",
   "execution_count": 23,
   "metadata": {},
   "outputs": [
    {
     "name": "stderr",
     "output_type": "stream",
     "text": [
      "c:\\users\\marcel öfele\\appdata\\local\\programs\\python\\python36\\lib\\site-packages\\sklearn\\svm\\base.py:193: FutureWarning: The default value of gamma will change from 'auto' to 'scale' in version 0.22 to account better for unscaled features. Set gamma explicitly to 'auto' or 'scale' to avoid this warning.\n",
      "  \"avoid this warning.\", FutureWarning)\n"
     ]
    },
    {
     "data": {
      "text/plain": [
       "0.955"
      ]
     },
     "execution_count": 23,
     "metadata": {},
     "output_type": "execute_result"
    }
   ],
   "source": [
    "import random\n",
    "import pandas as pd\n",
    "import timeit\n",
    "from sklearn.svm import SVC\n",
    "\n",
    "def createSample(group,ratio,mean_s1,mean_s2,std_s1,std_s2,diff_means,sex):\n",
    "    if sex=='M':\n",
    "        height=random.gauss(178.4,7.6)\n",
    "        s1=random.gauss(mean_s1,std_s1)\n",
    "        s2=random.gauss(mean_s2,std_s2)\n",
    "        s1_noise=s1+random.gauss(0,0.2)\n",
    "        s2_noise=s2+random.gauss(0,0.2)\n",
    "    else:\n",
    "        height=random.gauss(164.7,7.1)\n",
    "        s1=random.gauss(mean_s1-diff_means,std_s1)\n",
    "        s2=random.gauss(mean_s2-diff_means,std_s2)\n",
    "        s1_noise=s1+random.gauss(0,0.2)\n",
    "        s2_noise=s2+random.gauss(0,0.2)\n",
    "    \n",
    "    if s1+s2>=10:\n",
    "        label=1\n",
    "    else:\n",
    "        label=0\n",
    "        \n",
    "    sample=[group,ratio,mean_s1,mean_s2,diff_means,s1,s2,s1_noise,s2_noise,height,sex,label]\n",
    "    return sample\n",
    "\n",
    "\n",
    "\n",
    "#defining factors\n",
    "ratio=0.5\n",
    "mean_s1=8\n",
    "mean_s2=2\n",
    "std_s1=1\n",
    "std_s2=2\n",
    "diff_means=2\n",
    "n=1000\n",
    "\n",
    "#creating dataset\n",
    "df_list=[]\n",
    "\n",
    "for i in range(0,int(n*ratio)):\n",
    "    df_list.append(createSample(1,ratio,mean_s1,mean_s2,std_s1,std_s2,diff_means,'M'))\n",
    "\n",
    "for i in range(0,int(n*(1-ratio))):\n",
    "    df_list.append(createSample(1,ratio,mean_s1,mean_s2,std_s1,std_s2,diff_means,'F'))\n",
    "    \n",
    "df=pd.DataFrame(df_list)\n",
    "df.columns=['Group','Ratio','Mean S1','Mean S2', 'Difference Means', 'S1', 'S2','S1 Noise', 'S2 Noise', 'Height', 'Sex', 'Label']\n",
    "\n",
    "X=df.drop(['Group','Ratio','Mean S1','Mean S2', 'Difference Means', 'S1', 'S2','Label'],axis=1)\n",
    "X['Sex']=X['Sex'].map({'M':0,'F':1})\n",
    "y=df['Label']\n",
    "\n",
    "clf=SVC()\n",
    "clf.fit(X,y)\n",
    "\n",
    "#creating dataset\n",
    "df_test=[]\n",
    "\n",
    "for i in range(0,int(n*ratio)):\n",
    "    df_test.append(createSample(1,ratio,mean_s1,mean_s2,std_s1,std_s2,diff_means,'M'))\n",
    "\n",
    "for i in range(0,int(n*(1-ratio))):\n",
    "    df_test.append(createSample(1,ratio,mean_s1,mean_s2,std_s1,std_s2,diff_means,'F'))\n",
    "    \n",
    "df_test=pd.DataFrame(df_test)\n",
    "df_test.columns=['Group','Ratio','Mean S1','Mean S2', 'Difference Means', 'S1', 'S2','S1 Noise', 'S2 Noise', 'Height', 'Sex', 'Label']\n",
    "\n",
    "X_test=df_test.drop(['Group','Ratio','Mean S1','Mean S2', 'Difference Means', 'S1', 'S2','Label'],axis=1)\n",
    "X_test['Sex']=X_test['Sex'].map({'M':0,'F':1})\n",
    "y_test=df_test['Label']\n",
    "\n",
    "clf.score(X_test,y_test)\n"
   ]
  },
  {
   "cell_type": "code",
   "execution_count": null,
   "metadata": {},
   "outputs": [],
   "source": []
  }
 ],
 "metadata": {
  "kernelspec": {
   "display_name": "Python 3",
   "language": "python",
   "name": "python3"
  },
  "language_info": {
   "codemirror_mode": {
    "name": "ipython",
    "version": 3
   },
   "file_extension": ".py",
   "mimetype": "text/x-python",
   "name": "python",
   "nbconvert_exporter": "python",
   "pygments_lexer": "ipython3",
   "version": "3.6.8"
  }
 },
 "nbformat": 4,
 "nbformat_minor": 4
}
